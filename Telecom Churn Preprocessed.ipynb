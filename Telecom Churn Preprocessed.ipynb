{
 "cells": [
  {
   "cell_type": "markdown",
   "metadata": {},
   "source": [
    "# Telecom Churn Business Case\n",
    "# Preprocess data and create train, validation and test data for logistic regression and tensor friendly format\n",
    "We have data from an Audiobook app. Logically, it relates only to the audio versions of books. Each customer in the database has made a purchase at least once, that's why he/she is in the database. We want to create a machine learning algorithm based on our available data that can predict if a customer will buy again from the Audiobook company.Link to this kaggle dataset is :https://www.kaggle.com/jpacse/datasets-for-churn-telecom?select=cell2celltrain.csv \n"
   ]
  },
  {
   "cell_type": "markdown",
   "metadata": {},
   "source": [
    "# Import important Packages and extract data"
   ]
  },
  {
   "cell_type": "code",
   "execution_count": 1,
   "metadata": {},
   "outputs": [
    {
     "name": "stderr",
     "output_type": "stream",
     "text": [
      "C:\\Users\\samar\\Anaconda3\\lib\\site-packages\\statsmodels\\tools\\_testing.py:19: FutureWarning: pandas.util.testing is deprecated. Use the functions in the public API at pandas.testing instead.\n",
      "  import pandas.util.testing as tm\n"
     ]
    }
   ],
   "source": [
    "import numpy as np\n",
    "import pandas as pd\n",
    "import matplotlib.pyplot as plt\n",
    "import seaborn as sns\n",
    "from sklearn import preprocessing\n",
    "sns.set()"
   ]
  },
  {
   "cell_type": "code",
   "execution_count": 2,
   "metadata": {},
   "outputs": [],
   "source": [
    "raw_data = pd.read_csv('cell2celltrain.csv')"
   ]
  },
  {
   "cell_type": "code",
   "execution_count": 3,
   "metadata": {},
   "outputs": [],
   "source": [
    "data_no_custID = raw_data.drop(['CustomerID','HandsetPrice','ServiceArea'],axis=1)"
   ]
  },
  {
   "cell_type": "code",
   "execution_count": 4,
   "metadata": {},
   "outputs": [],
   "source": [
    "data_no_custID['Churn'] = data_no_custID['Churn'].map({'Yes':1 ,'No':0})"
   ]
  },
  {
   "cell_type": "code",
   "execution_count": 5,
   "metadata": {},
   "outputs": [],
   "source": [
    "data_no_missing_value=data_no_custID.dropna(axis=0)"
   ]
  },
  {
   "cell_type": "markdown",
   "metadata": {},
   "source": [
    "# Remove extreme values"
   ]
  },
  {
   "cell_type": "code",
   "execution_count": 6,
   "metadata": {},
   "outputs": [],
   "source": [
    "q = data_no_missing_value['MonthlyRevenue'].quantile(0.99)\n",
    "p = data_no_missing_value['MonthlyRevenue'].quantile(0.01)\n",
    "data1 = data_no_missing_value[data_no_missing_value['MonthlyRevenue']<q]\n",
    "data1  = data_no_missing_value[data_no_missing_value['MonthlyRevenue']>p] "
   ]
  },
  {
   "cell_type": "code",
   "execution_count": 7,
   "metadata": {},
   "outputs": [],
   "source": [
    "q = data1['MonthlyMinutes'].quantile(0.99)\n",
    "p = data1['MonthlyMinutes'].quantile(0.01)\n",
    "data2 = data1[data1['MonthlyRevenue']<q]\n",
    "data2  = data1[data1['MonthlyRevenue']>p] "
   ]
  },
  {
   "cell_type": "code",
   "execution_count": 8,
   "metadata": {},
   "outputs": [],
   "source": [
    "q = data2['TotalRecurringCharge'].quantile(0.99)\n",
    "p = data2['TotalRecurringCharge'].quantile(0.01)\n",
    "data3 = data2[data2['TotalRecurringCharge']<q]\n",
    "data3  = data2[data2['TotalRecurringCharge']>p] "
   ]
  },
  {
   "cell_type": "code",
   "execution_count": 9,
   "metadata": {},
   "outputs": [],
   "source": [
    "data_unscaled_all = data3.copy()\n",
    "data_unscaled_all = data_unscaled_all.reset_index(drop=True)\n",
    "target_churn = data_unscaled_all['Churn']"
   ]
  },
  {
   "cell_type": "markdown",
   "metadata": {},
   "source": [
    "# Balance the Dataset"
   ]
  },
  {
   "cell_type": "code",
   "execution_count": 10,
   "metadata": {
    "scrolled": true
   },
   "outputs": [],
   "source": [
    "num_one_targets = int(np.sum(target_churn))\n",
    "zero_targets_counter = 0\n",
    "\n",
    "indices_to_remove = []\n",
    "\n",
    "for i in range(target_churn.shape[0]):\n",
    "    if target_churn[i] == 0:\n",
    "        zero_targets_counter += 1\n",
    "        if zero_targets_counter > num_one_targets:\n",
    "              indices_to_remove.append(i)\n",
    " \n",
    "#data_unscaled_equal_priors = np.delete(data_unscaled_all, indices_to_remove, axis = 0)\n",
    "data_unscaled_prior = data_unscaled_all.drop(indices_to_remove)\n",
    "data_targets_prior = data_unscaled_prior['Churn']\n",
    "data_unscaled_inputs = data_unscaled_prior.drop(['Churn'],axis=1)\n"
   ]
  },
  {
   "cell_type": "code",
   "execution_count": 11,
   "metadata": {},
   "outputs": [],
   "source": [
    "data_unscaled_all = data_unscaled_prior.copy()"
   ]
  },
  {
   "cell_type": "markdown",
   "metadata": {},
   "source": [
    "# Segerate categorical and continuous variables"
   ]
  },
  {
   "cell_type": "code",
   "execution_count": 12,
   "metadata": {},
   "outputs": [],
   "source": [
    "data_category_only = data_unscaled_all[['ChildrenInHH', 'HandsetRefurbished',\n",
    "       'HandsetWebCapable', 'TruckOwner', 'RVOwner', 'Homeownership',\n",
    "       'BuysViaMailOrder', 'RespondsToMailOffers', 'OptOutMailings',\n",
    "       'NonUSTravel', 'OwnsComputer', 'HasCreditCard', 'NewCellphoneUser',\n",
    "       'NotNewCellphoneUser', 'OwnsMotorcycle', \n",
    "       'MadeCallToRetentionTeam', 'CreditRating', 'PrizmCode',\n",
    "       'Occupation', 'MaritalStatus','AdjustmentsToCreditRating','ReferralsMadeBySubscriber','RetentionOffersAccepted','RetentionCalls','Churn']]"
   ]
  },
  {
   "cell_type": "code",
   "execution_count": 13,
   "metadata": {},
   "outputs": [],
   "source": [
    "data_unscale_continuous = data_unscaled_all.drop(['ChildrenInHH', 'HandsetRefurbished',\n",
    "       'HandsetWebCapable', 'TruckOwner', 'RVOwner', 'Homeownership',\n",
    "       'BuysViaMailOrder', 'RespondsToMailOffers', 'OptOutMailings',\n",
    "       'NonUSTravel', 'OwnsComputer', 'HasCreditCard', 'NewCellphoneUser',\n",
    "       'NotNewCellphoneUser', 'OwnsMotorcycle', \n",
    "       'MadeCallToRetentionTeam', 'CreditRating', 'PrizmCode',\n",
    "       'Occupation', 'MaritalStatus', 'AdjustmentsToCreditRating',\n",
    "       'ReferralsMadeBySubscriber', 'RetentionOffersAccepted',\n",
    "       'RetentionCalls', 'Churn'],axis =1 )"
   ]
  },
  {
   "cell_type": "code",
   "execution_count": 14,
   "metadata": {},
   "outputs": [
    {
     "data": {
      "text/plain": [
       "array(['MonthlyRevenue', 'MonthlyMinutes', 'TotalRecurringCharge',\n",
       "       'DirectorAssistedCalls', 'OverageMinutes', 'RoamingCalls',\n",
       "       'PercChangeMinutes', 'PercChangeRevenues', 'DroppedCalls',\n",
       "       'BlockedCalls', 'UnansweredCalls', 'CustomerCareCalls',\n",
       "       'ThreewayCalls', 'ReceivedCalls', 'OutboundCalls', 'InboundCalls',\n",
       "       'PeakCallsInOut', 'OffPeakCallsInOut', 'DroppedBlockedCalls',\n",
       "       'CallForwardingCalls', 'CallWaitingCalls', 'MonthsInService',\n",
       "       'UniqueSubs', 'ActiveSubs', 'Handsets', 'HandsetModels',\n",
       "       'CurrentEquipmentDays', 'AgeHH1', 'AgeHH2', 'IncomeGroup'],\n",
       "      dtype=object)"
      ]
     },
     "execution_count": 14,
     "metadata": {},
     "output_type": "execute_result"
    }
   ],
   "source": [
    "data_unscale_continuous.columns.values"
   ]
  },
  {
   "cell_type": "code",
   "execution_count": 15,
   "metadata": {},
   "outputs": [
    {
     "data": {
      "text/html": [
       "<div>\n",
       "<style scoped>\n",
       "    .dataframe tbody tr th:only-of-type {\n",
       "        vertical-align: middle;\n",
       "    }\n",
       "\n",
       "    .dataframe tbody tr th {\n",
       "        vertical-align: top;\n",
       "    }\n",
       "\n",
       "    .dataframe thead th {\n",
       "        text-align: right;\n",
       "    }\n",
       "</style>\n",
       "<table border=\"1\" class=\"dataframe\">\n",
       "  <thead>\n",
       "    <tr style=\"text-align: right;\">\n",
       "      <th></th>\n",
       "      <th>ChildrenInHH</th>\n",
       "      <th>HandsetRefurbished</th>\n",
       "      <th>HandsetWebCapable</th>\n",
       "      <th>TruckOwner</th>\n",
       "      <th>RVOwner</th>\n",
       "      <th>Homeownership</th>\n",
       "      <th>BuysViaMailOrder</th>\n",
       "      <th>RespondsToMailOffers</th>\n",
       "      <th>OptOutMailings</th>\n",
       "      <th>NonUSTravel</th>\n",
       "      <th>...</th>\n",
       "      <th>OwnsMotorcycle</th>\n",
       "      <th>MadeCallToRetentionTeam</th>\n",
       "      <th>CreditRating</th>\n",
       "      <th>PrizmCode</th>\n",
       "      <th>Occupation</th>\n",
       "      <th>MaritalStatus</th>\n",
       "      <th>AdjustmentsToCreditRating</th>\n",
       "      <th>ReferralsMadeBySubscriber</th>\n",
       "      <th>RetentionOffersAccepted</th>\n",
       "      <th>RetentionCalls</th>\n",
       "    </tr>\n",
       "  </thead>\n",
       "  <tbody>\n",
       "    <tr>\n",
       "      <th>0</th>\n",
       "      <td>No</td>\n",
       "      <td>No</td>\n",
       "      <td>Yes</td>\n",
       "      <td>No</td>\n",
       "      <td>No</td>\n",
       "      <td>Known</td>\n",
       "      <td>Yes</td>\n",
       "      <td>Yes</td>\n",
       "      <td>No</td>\n",
       "      <td>No</td>\n",
       "      <td>...</td>\n",
       "      <td>No</td>\n",
       "      <td>Yes</td>\n",
       "      <td>1-Highest</td>\n",
       "      <td>Suburban</td>\n",
       "      <td>Professional</td>\n",
       "      <td>No</td>\n",
       "      <td>0</td>\n",
       "      <td>0</td>\n",
       "      <td>0</td>\n",
       "      <td>1</td>\n",
       "    </tr>\n",
       "    <tr>\n",
       "      <th>1</th>\n",
       "      <td>Yes</td>\n",
       "      <td>No</td>\n",
       "      <td>No</td>\n",
       "      <td>No</td>\n",
       "      <td>No</td>\n",
       "      <td>Known</td>\n",
       "      <td>Yes</td>\n",
       "      <td>Yes</td>\n",
       "      <td>No</td>\n",
       "      <td>No</td>\n",
       "      <td>...</td>\n",
       "      <td>No</td>\n",
       "      <td>No</td>\n",
       "      <td>4-Medium</td>\n",
       "      <td>Suburban</td>\n",
       "      <td>Professional</td>\n",
       "      <td>Yes</td>\n",
       "      <td>0</td>\n",
       "      <td>0</td>\n",
       "      <td>0</td>\n",
       "      <td>0</td>\n",
       "    </tr>\n",
       "    <tr>\n",
       "      <th>2</th>\n",
       "      <td>Yes</td>\n",
       "      <td>No</td>\n",
       "      <td>No</td>\n",
       "      <td>No</td>\n",
       "      <td>No</td>\n",
       "      <td>Unknown</td>\n",
       "      <td>No</td>\n",
       "      <td>No</td>\n",
       "      <td>No</td>\n",
       "      <td>No</td>\n",
       "      <td>...</td>\n",
       "      <td>No</td>\n",
       "      <td>No</td>\n",
       "      <td>3-Good</td>\n",
       "      <td>Town</td>\n",
       "      <td>Crafts</td>\n",
       "      <td>Yes</td>\n",
       "      <td>0</td>\n",
       "      <td>0</td>\n",
       "      <td>0</td>\n",
       "      <td>0</td>\n",
       "    </tr>\n",
       "    <tr>\n",
       "      <th>3</th>\n",
       "      <td>No</td>\n",
       "      <td>No</td>\n",
       "      <td>Yes</td>\n",
       "      <td>No</td>\n",
       "      <td>No</td>\n",
       "      <td>Known</td>\n",
       "      <td>Yes</td>\n",
       "      <td>Yes</td>\n",
       "      <td>No</td>\n",
       "      <td>No</td>\n",
       "      <td>...</td>\n",
       "      <td>No</td>\n",
       "      <td>No</td>\n",
       "      <td>4-Medium</td>\n",
       "      <td>Other</td>\n",
       "      <td>Other</td>\n",
       "      <td>No</td>\n",
       "      <td>0</td>\n",
       "      <td>0</td>\n",
       "      <td>0</td>\n",
       "      <td>0</td>\n",
       "    </tr>\n",
       "    <tr>\n",
       "      <th>4</th>\n",
       "      <td>No</td>\n",
       "      <td>No</td>\n",
       "      <td>No</td>\n",
       "      <td>No</td>\n",
       "      <td>No</td>\n",
       "      <td>Known</td>\n",
       "      <td>Yes</td>\n",
       "      <td>Yes</td>\n",
       "      <td>No</td>\n",
       "      <td>No</td>\n",
       "      <td>...</td>\n",
       "      <td>No</td>\n",
       "      <td>No</td>\n",
       "      <td>1-Highest</td>\n",
       "      <td>Other</td>\n",
       "      <td>Professional</td>\n",
       "      <td>Yes</td>\n",
       "      <td>1</td>\n",
       "      <td>0</td>\n",
       "      <td>0</td>\n",
       "      <td>0</td>\n",
       "    </tr>\n",
       "    <tr>\n",
       "      <th>...</th>\n",
       "      <td>...</td>\n",
       "      <td>...</td>\n",
       "      <td>...</td>\n",
       "      <td>...</td>\n",
       "      <td>...</td>\n",
       "      <td>...</td>\n",
       "      <td>...</td>\n",
       "      <td>...</td>\n",
       "      <td>...</td>\n",
       "      <td>...</td>\n",
       "      <td>...</td>\n",
       "      <td>...</td>\n",
       "      <td>...</td>\n",
       "      <td>...</td>\n",
       "      <td>...</td>\n",
       "      <td>...</td>\n",
       "      <td>...</td>\n",
       "      <td>...</td>\n",
       "      <td>...</td>\n",
       "      <td>...</td>\n",
       "      <td>...</td>\n",
       "    </tr>\n",
       "    <tr>\n",
       "      <th>46206</th>\n",
       "      <td>No</td>\n",
       "      <td>Yes</td>\n",
       "      <td>Yes</td>\n",
       "      <td>No</td>\n",
       "      <td>No</td>\n",
       "      <td>Known</td>\n",
       "      <td>No</td>\n",
       "      <td>No</td>\n",
       "      <td>No</td>\n",
       "      <td>Yes</td>\n",
       "      <td>...</td>\n",
       "      <td>No</td>\n",
       "      <td>No</td>\n",
       "      <td>2-High</td>\n",
       "      <td>Other</td>\n",
       "      <td>Professional</td>\n",
       "      <td>No</td>\n",
       "      <td>0</td>\n",
       "      <td>0</td>\n",
       "      <td>0</td>\n",
       "      <td>0</td>\n",
       "    </tr>\n",
       "    <tr>\n",
       "      <th>46208</th>\n",
       "      <td>No</td>\n",
       "      <td>No</td>\n",
       "      <td>Yes</td>\n",
       "      <td>No</td>\n",
       "      <td>No</td>\n",
       "      <td>Unknown</td>\n",
       "      <td>No</td>\n",
       "      <td>No</td>\n",
       "      <td>No</td>\n",
       "      <td>No</td>\n",
       "      <td>...</td>\n",
       "      <td>No</td>\n",
       "      <td>No</td>\n",
       "      <td>3-Good</td>\n",
       "      <td>Other</td>\n",
       "      <td>Other</td>\n",
       "      <td>No</td>\n",
       "      <td>0</td>\n",
       "      <td>0</td>\n",
       "      <td>0</td>\n",
       "      <td>0</td>\n",
       "    </tr>\n",
       "    <tr>\n",
       "      <th>46210</th>\n",
       "      <td>No</td>\n",
       "      <td>No</td>\n",
       "      <td>Yes</td>\n",
       "      <td>No</td>\n",
       "      <td>No</td>\n",
       "      <td>Unknown</td>\n",
       "      <td>No</td>\n",
       "      <td>No</td>\n",
       "      <td>No</td>\n",
       "      <td>No</td>\n",
       "      <td>...</td>\n",
       "      <td>No</td>\n",
       "      <td>No</td>\n",
       "      <td>4-Medium</td>\n",
       "      <td>Other</td>\n",
       "      <td>Other</td>\n",
       "      <td>Unknown</td>\n",
       "      <td>0</td>\n",
       "      <td>0</td>\n",
       "      <td>0</td>\n",
       "      <td>0</td>\n",
       "    </tr>\n",
       "    <tr>\n",
       "      <th>46212</th>\n",
       "      <td>No</td>\n",
       "      <td>No</td>\n",
       "      <td>Yes</td>\n",
       "      <td>No</td>\n",
       "      <td>No</td>\n",
       "      <td>Known</td>\n",
       "      <td>Yes</td>\n",
       "      <td>Yes</td>\n",
       "      <td>No</td>\n",
       "      <td>No</td>\n",
       "      <td>...</td>\n",
       "      <td>No</td>\n",
       "      <td>No</td>\n",
       "      <td>1-Highest</td>\n",
       "      <td>Other</td>\n",
       "      <td>Professional</td>\n",
       "      <td>No</td>\n",
       "      <td>0</td>\n",
       "      <td>0</td>\n",
       "      <td>0</td>\n",
       "      <td>0</td>\n",
       "    </tr>\n",
       "    <tr>\n",
       "      <th>46215</th>\n",
       "      <td>No</td>\n",
       "      <td>No</td>\n",
       "      <td>Yes</td>\n",
       "      <td>No</td>\n",
       "      <td>No</td>\n",
       "      <td>Known</td>\n",
       "      <td>No</td>\n",
       "      <td>No</td>\n",
       "      <td>No</td>\n",
       "      <td>No</td>\n",
       "      <td>...</td>\n",
       "      <td>No</td>\n",
       "      <td>No</td>\n",
       "      <td>5-Low</td>\n",
       "      <td>Other</td>\n",
       "      <td>Professional</td>\n",
       "      <td>Yes</td>\n",
       "      <td>0</td>\n",
       "      <td>0</td>\n",
       "      <td>0</td>\n",
       "      <td>0</td>\n",
       "    </tr>\n",
       "  </tbody>\n",
       "</table>\n",
       "<p>26128 rows × 24 columns</p>\n",
       "</div>"
      ],
      "text/plain": [
       "      ChildrenInHH HandsetRefurbished HandsetWebCapable TruckOwner RVOwner  \\\n",
       "0               No                 No               Yes         No      No   \n",
       "1              Yes                 No                No         No      No   \n",
       "2              Yes                 No                No         No      No   \n",
       "3               No                 No               Yes         No      No   \n",
       "4               No                 No                No         No      No   \n",
       "...            ...                ...               ...        ...     ...   \n",
       "46206           No                Yes               Yes         No      No   \n",
       "46208           No                 No               Yes         No      No   \n",
       "46210           No                 No               Yes         No      No   \n",
       "46212           No                 No               Yes         No      No   \n",
       "46215           No                 No               Yes         No      No   \n",
       "\n",
       "      Homeownership BuysViaMailOrder RespondsToMailOffers OptOutMailings  \\\n",
       "0             Known              Yes                  Yes             No   \n",
       "1             Known              Yes                  Yes             No   \n",
       "2           Unknown               No                   No             No   \n",
       "3             Known              Yes                  Yes             No   \n",
       "4             Known              Yes                  Yes             No   \n",
       "...             ...              ...                  ...            ...   \n",
       "46206         Known               No                   No             No   \n",
       "46208       Unknown               No                   No             No   \n",
       "46210       Unknown               No                   No             No   \n",
       "46212         Known              Yes                  Yes             No   \n",
       "46215         Known               No                   No             No   \n",
       "\n",
       "      NonUSTravel  ... OwnsMotorcycle MadeCallToRetentionTeam CreditRating  \\\n",
       "0              No  ...             No                     Yes    1-Highest   \n",
       "1              No  ...             No                      No     4-Medium   \n",
       "2              No  ...             No                      No       3-Good   \n",
       "3              No  ...             No                      No     4-Medium   \n",
       "4              No  ...             No                      No    1-Highest   \n",
       "...           ...  ...            ...                     ...          ...   \n",
       "46206         Yes  ...             No                      No       2-High   \n",
       "46208          No  ...             No                      No       3-Good   \n",
       "46210          No  ...             No                      No     4-Medium   \n",
       "46212          No  ...             No                      No    1-Highest   \n",
       "46215          No  ...             No                      No        5-Low   \n",
       "\n",
       "      PrizmCode    Occupation MaritalStatus AdjustmentsToCreditRating  \\\n",
       "0      Suburban  Professional            No                         0   \n",
       "1      Suburban  Professional           Yes                         0   \n",
       "2          Town        Crafts           Yes                         0   \n",
       "3         Other         Other            No                         0   \n",
       "4         Other  Professional           Yes                         1   \n",
       "...         ...           ...           ...                       ...   \n",
       "46206     Other  Professional            No                         0   \n",
       "46208     Other         Other            No                         0   \n",
       "46210     Other         Other       Unknown                         0   \n",
       "46212     Other  Professional            No                         0   \n",
       "46215     Other  Professional           Yes                         0   \n",
       "\n",
       "      ReferralsMadeBySubscriber RetentionOffersAccepted RetentionCalls  \n",
       "0                             0                       0              1  \n",
       "1                             0                       0              0  \n",
       "2                             0                       0              0  \n",
       "3                             0                       0              0  \n",
       "4                             0                       0              0  \n",
       "...                         ...                     ...            ...  \n",
       "46206                         0                       0              0  \n",
       "46208                         0                       0              0  \n",
       "46210                         0                       0              0  \n",
       "46212                         0                       0              0  \n",
       "46215                         0                       0              0  \n",
       "\n",
       "[26128 rows x 24 columns]"
      ]
     },
     "execution_count": 15,
     "metadata": {},
     "output_type": "execute_result"
    }
   ],
   "source": [
    "data_input_categorical = data_category_only.iloc[:,:-1]\n",
    "data_input_categorical"
   ]
  },
  {
   "cell_type": "code",
   "execution_count": 16,
   "metadata": {},
   "outputs": [],
   "source": [
    "data_target = data_targets_prior.copy()"
   ]
  },
  {
   "cell_type": "markdown",
   "metadata": {},
   "source": [
    "# Standardize continuous input variables"
   ]
  },
  {
   "cell_type": "code",
   "execution_count": 17,
   "metadata": {},
   "outputs": [],
   "source": [
    "from sklearn.preprocessing import StandardScaler\n",
    "churn_scaler = StandardScaler()\n",
    "churn_scaler.fit(data_unscale_continuous)\n",
    "scaled_inputs = churn_scaler.transform(data_unscale_continuous)"
   ]
  },
  {
   "cell_type": "code",
   "execution_count": 18,
   "metadata": {},
   "outputs": [],
   "source": [
    "data_inputs_continuous = pd.DataFrame(scaled_inputs, columns=['MonthlyRevenue', 'MonthlyMinutes', 'TotalRecurringCharge',\n",
    "       'DirectorAssistedCalls', 'OverageMinutes', 'RoamingCalls',\n",
    "       'PercChangeMinutes', 'PercChangeRevenues', 'DroppedCalls',\n",
    "       'BlockedCalls', 'UnansweredCalls', 'CustomerCareCalls',\n",
    "       'ThreewayCalls', 'ReceivedCalls', 'OutboundCalls', 'InboundCalls',\n",
    "       'PeakCallsInOut', 'OffPeakCallsInOut', 'DroppedBlockedCalls',\n",
    "       'CallForwardingCalls', 'CallWaitingCalls', 'MonthsInService',\n",
    "       'UniqueSubs', 'ActiveSubs', 'Handsets', 'HandsetModels',\n",
    "       'CurrentEquipmentDays', 'AgeHH1', 'AgeHH2', 'IncomeGroup'])"
   ]
  },
  {
   "cell_type": "code",
   "execution_count": 19,
   "metadata": {},
   "outputs": [],
   "source": [
    "data_input_categorical =data_input_categorical.reset_index(drop=True)\n",
    "data_inputs_continuous=data_inputs_continuous.reset_index(drop=True)"
   ]
  },
  {
   "cell_type": "markdown",
   "metadata": {},
   "source": [
    "# Combine categorical and standardize input variables"
   ]
  },
  {
   "cell_type": "code",
   "execution_count": 20,
   "metadata": {},
   "outputs": [],
   "source": [
    "data_inputs = pd.concat([data_input_categorical,data_inputs_continuous],axis=1)"
   ]
  },
  {
   "cell_type": "markdown",
   "metadata": {},
   "source": [
    "# Create dummmy for category variables"
   ]
  },
  {
   "cell_type": "code",
   "execution_count": 21,
   "metadata": {},
   "outputs": [],
   "source": [
    "chilrenInHH_dummy = pd.get_dummies(data_inputs['ChildrenInHH'],drop_first=True)\n"
   ]
  },
  {
   "cell_type": "code",
   "execution_count": 22,
   "metadata": {},
   "outputs": [],
   "source": [
    "data_inputs['Chiilren'] = chilrenInHH_dummy"
   ]
  },
  {
   "cell_type": "code",
   "execution_count": 23,
   "metadata": {},
   "outputs": [],
   "source": [
    "data_inputs = data_inputs.drop(['ChildrenInHH'],axis=1)"
   ]
  },
  {
   "cell_type": "code",
   "execution_count": 24,
   "metadata": {},
   "outputs": [],
   "source": [
    "Handset_dummy = pd.get_dummies(data_inputs['HandsetRefurbished'],drop_first=True)"
   ]
  },
  {
   "cell_type": "code",
   "execution_count": 25,
   "metadata": {},
   "outputs": [],
   "source": [
    "data_inputs['RefurbishedHandset'] = Handset_dummy\n"
   ]
  },
  {
   "cell_type": "code",
   "execution_count": 26,
   "metadata": {},
   "outputs": [],
   "source": [
    "data_inputs = data_inputs.drop(['HandsetRefurbished'],axis=1)"
   ]
  },
  {
   "cell_type": "code",
   "execution_count": 27,
   "metadata": {},
   "outputs": [],
   "source": [
    "HandsetWebCapable_dummy = pd.get_dummies(data_inputs['HandsetWebCapable'],drop_first=True)\n",
    "data_inputs['HSWebCapable'] = HandsetWebCapable_dummy\n",
    "data_inputs = data_inputs.drop(['HandsetWebCapable'],axis=1)"
   ]
  },
  {
   "cell_type": "code",
   "execution_count": 28,
   "metadata": {},
   "outputs": [],
   "source": [
    "truckOwner_dummy = pd.get_dummies(data_inputs['TruckOwner'],drop_first=True)\n",
    "data_inputs['TruckOwn'] = truckOwner_dummy\n",
    "data_inputs = data_inputs.drop(['TruckOwner'],axis=1)"
   ]
  },
  {
   "cell_type": "code",
   "execution_count": 29,
   "metadata": {},
   "outputs": [],
   "source": [
    "RVOwn_dummy = pd.get_dummies(data_inputs['RVOwner'],drop_first=True)\n",
    "data_inputs['RVOwn'] = RVOwn_dummy\n",
    "data_inputs = data_inputs.drop(['RVOwner'],axis=1)"
   ]
  },
  {
   "cell_type": "code",
   "execution_count": 30,
   "metadata": {},
   "outputs": [],
   "source": [
    "homeowner_dummy =  pd.get_dummies(data_inputs['Homeownership'],drop_first=True)\n"
   ]
  },
  {
   "cell_type": "code",
   "execution_count": 31,
   "metadata": {},
   "outputs": [],
   "source": [
    "data_inputs['homeown'] = homeowner_dummy\n",
    "data_inputs = data_inputs.drop(['Homeownership'],axis=1)"
   ]
  },
  {
   "cell_type": "code",
   "execution_count": 32,
   "metadata": {},
   "outputs": [],
   "source": [
    "mail_dummy = pd.get_dummies(data_inputs['BuysViaMailOrder'],drop_first=True)\n",
    "data_inputs['BuyThrMail'] = mail_dummy\n",
    "data_inputs = data_inputs.drop(['BuysViaMailOrder'],axis=1)"
   ]
  },
  {
   "cell_type": "code",
   "execution_count": 33,
   "metadata": {},
   "outputs": [],
   "source": [
    "mailres_dummy = pd.get_dummies(data_inputs['RespondsToMailOffers'],drop_first=True)\n",
    "data_inputs['MailResponse'] = mailres_dummy\n",
    "data_inputs = data_inputs.drop(['RespondsToMailOffers'],axis=1)"
   ]
  },
  {
   "cell_type": "code",
   "execution_count": 34,
   "metadata": {},
   "outputs": [],
   "source": [
    "mailoptout_dummy = pd.get_dummies(data_inputs['OptOutMailings'],drop_first=True)\n",
    "data_inputs['MailListOptout'] = mailoptout_dummy\n",
    "data_inputs = data_inputs.drop(['OptOutMailings'],axis=1)"
   ]
  },
  {
   "cell_type": "code",
   "execution_count": 35,
   "metadata": {
    "scrolled": true
   },
   "outputs": [],
   "source": [
    "NonUStravel_dummy = pd.get_dummies(data_inputs['NonUSTravel'],drop_first=True)\n",
    "data_inputs['NonUSTrip'] = NonUStravel_dummy\n",
    "data_inputs = data_inputs.drop(['NonUSTravel'],axis=1)"
   ]
  },
  {
   "cell_type": "code",
   "execution_count": 36,
   "metadata": {},
   "outputs": [],
   "source": [
    "Owncomputer_dummy = pd.get_dummies(data_inputs['OwnsComputer'],drop_first=True)\n",
    "data_inputs['OwnComp'] = Owncomputer_dummy\n",
    "data_inputs = data_inputs.drop(['OwnsComputer'],axis=1)"
   ]
  },
  {
   "cell_type": "code",
   "execution_count": 37,
   "metadata": {},
   "outputs": [],
   "source": [
    "HasCC_dummy = pd.get_dummies(data_inputs['HasCreditCard'],drop_first=True)\n",
    "data_inputs['HasCC'] = HasCC_dummy\n",
    "data_inputs = data_inputs.drop(['HasCreditCard'],axis=1)"
   ]
  },
  {
   "cell_type": "code",
   "execution_count": 38,
   "metadata": {},
   "outputs": [],
   "source": [
    "NewCellPhoneUser_dummy = pd.get_dummies(data_inputs['NewCellphoneUser'],drop_first=True)\n",
    "data_inputs['NewCellUser'] = NewCellPhoneUser_dummy\n",
    "data_inputs = data_inputs.drop(['NewCellphoneUser'],axis=1)"
   ]
  },
  {
   "cell_type": "code",
   "execution_count": 39,
   "metadata": {},
   "outputs": [],
   "source": [
    "data_inputs = data_inputs.drop(['NotNewCellphoneUser'],axis=1)"
   ]
  },
  {
   "cell_type": "code",
   "execution_count": 40,
   "metadata": {},
   "outputs": [],
   "source": [
    "OwnMotorCycle_dummy = pd.get_dummies(data_inputs['OwnsMotorcycle'],drop_first=True)\n",
    "data_inputs['HasMotorCycle'] = OwnMotorCycle_dummy\n",
    "data_inputs = data_inputs.drop(['OwnsMotorcycle'],axis=1)"
   ]
  },
  {
   "cell_type": "code",
   "execution_count": 41,
   "metadata": {},
   "outputs": [],
   "source": [
    "CalltoReten_dummy = pd.get_dummies(data_inputs['MadeCallToRetentionTeam'],drop_first=True)\n",
    "data_inputs['CallToRetentionTeam'] = CalltoReten_dummy\n",
    "data_inputs = data_inputs.drop(['MadeCallToRetentionTeam'],axis=1)"
   ]
  },
  {
   "cell_type": "code",
   "execution_count": 42,
   "metadata": {},
   "outputs": [],
   "source": [
    "data_inputCheckpoint = data_inputs.copy()"
   ]
  },
  {
   "cell_type": "code",
   "execution_count": 43,
   "metadata": {},
   "outputs": [],
   "source": [
    "CreditRating_dummy = pd.get_dummies(data_inputs['CreditRating'],drop_first=True)\n",
    "data_inputs = pd.concat([data_inputs,CreditRating_dummy],axis=1)\n",
    "data_inputs = data_inputs.drop(['CreditRating'],axis=1)"
   ]
  },
  {
   "cell_type": "code",
   "execution_count": 44,
   "metadata": {},
   "outputs": [],
   "source": [
    "PrizmCode_dummy = pd.get_dummies(data_inputs['PrizmCode'],drop_first=True)\n",
    "data_inputs = pd.concat([data_inputs,PrizmCode_dummy],axis=1)\n",
    "data_inputs = data_inputs.drop(['PrizmCode'],axis=1)"
   ]
  },
  {
   "cell_type": "code",
   "execution_count": 45,
   "metadata": {},
   "outputs": [],
   "source": [
    "occupation_dummy = pd.get_dummies(data_inputs['Occupation'],drop_first=True)\n",
    "data_inputs = pd.concat([data_inputs,occupation_dummy],axis=1)\n",
    "data_inputs = data_inputs.drop(['Occupation'],axis=1)"
   ]
  },
  {
   "cell_type": "code",
   "execution_count": 46,
   "metadata": {},
   "outputs": [],
   "source": [
    "data_no_ms = data_inputs.drop(['MaritalStatus'],axis=1)"
   ]
  },
  {
   "cell_type": "code",
   "execution_count": 47,
   "metadata": {},
   "outputs": [],
   "source": [
    "data_no_ms['AdjustmentInCreditRating'] = np.where(data_no_ms['AdjustmentsToCreditRating'] > 0,1,0)"
   ]
  },
  {
   "cell_type": "code",
   "execution_count": 48,
   "metadata": {},
   "outputs": [],
   "source": [
    "data_no_ms = data_no_ms.drop(['AdjustmentsToCreditRating'],axis=1)"
   ]
  },
  {
   "cell_type": "code",
   "execution_count": 49,
   "metadata": {},
   "outputs": [],
   "source": [
    "data_no_ms['CustomerMakesRef'] = np.where(data_no_ms['ReferralsMadeBySubscriber'] > 0,1,0)"
   ]
  },
  {
   "cell_type": "code",
   "execution_count": 50,
   "metadata": {},
   "outputs": [],
   "source": [
    "data_no_ms = data_no_ms.drop(['ReferralsMadeBySubscriber'],axis=1)"
   ]
  },
  {
   "cell_type": "code",
   "execution_count": 51,
   "metadata": {},
   "outputs": [],
   "source": [
    "data_no_ms['AcceptedRetentionOffer'] = np.where(data_no_ms['RetentionOffersAccepted'] > 0,1,0)"
   ]
  },
  {
   "cell_type": "code",
   "execution_count": 52,
   "metadata": {},
   "outputs": [],
   "source": [
    "data_no_ms = data_no_ms.drop(['RetentionOffersAccepted'],axis=1)"
   ]
  },
  {
   "cell_type": "code",
   "execution_count": 53,
   "metadata": {},
   "outputs": [],
   "source": [
    "data_no_ms['RetentionCalls'] = np.where(data_no_ms['RetentionCalls'] > 0,1,0)"
   ]
  },
  {
   "cell_type": "markdown",
   "metadata": {},
   "source": [
    "# Finalize input and target data"
   ]
  },
  {
   "cell_type": "code",
   "execution_count": 54,
   "metadata": {},
   "outputs": [],
   "source": [
    "pd.set_option('display.max_columns', None)\n",
    "data_no_ms.head()\n",
    "data_clean = data_no_ms.copy()\n",
    "data_clean = data_clean.reset_index(drop=True)\n",
    "data_target = data_target.reset_index(drop=True)\n",
    "data_target = pd.DataFrame(data_target, columns=['Churn'])\n",
    "input_target_combine = pd.concat([data_target,data_clean],axis=1)"
   ]
  },
  {
   "cell_type": "markdown",
   "metadata": {},
   "source": [
    "# Reshuffle data"
   ]
  },
  {
   "cell_type": "code",
   "execution_count": 55,
   "metadata": {},
   "outputs": [],
   "source": [
    "from sklearn.utils import shuffle\n",
    "shuffled_input_target_combine = shuffle(input_target_combine)"
   ]
  },
  {
   "cell_type": "markdown",
   "metadata": {},
   "source": [
    "# Save final preprocessed data as csv for logit regression"
   ]
  },
  {
   "cell_type": "code",
   "execution_count": 56,
   "metadata": {},
   "outputs": [],
   "source": [
    "shuffled_input_target_combine.to_csv('TelecomChurn_logistic.csv',index=False)"
   ]
  },
  {
   "cell_type": "code",
   "execution_count": 57,
   "metadata": {},
   "outputs": [],
   "source": [
    "shuffled_targets = pd.DataFrame(shuffled_input_target_combine['Churn'],columns=['Churn'])\n",
    "shuffled_inputs = shuffled_input_target_combine.drop(['Churn'],axis=1)"
   ]
  },
  {
   "cell_type": "code",
   "execution_count": 58,
   "metadata": {},
   "outputs": [
    {
     "name": "stdout",
     "output_type": "stream",
     "text": [
      "Churn    10450\n",
      "dtype: int64 20902 Churn    0.499952\n",
      "dtype: float64\n",
      "Churn    1253\n",
      "dtype: int64 2612 Churn    0.479709\n",
      "dtype: float64\n",
      "Churn    1361\n",
      "dtype: int64 2614 Churn    0.520658\n",
      "dtype: float64\n"
     ]
    }
   ],
   "source": [
    "samples_count = shuffled_inputs.shape[0]\n",
    "\n",
    "train_samples_count = int(0.8*samples_count)\n",
    "validation_samples_count = int(0.1*samples_count)\n",
    "test_samples_count = samples_count - train_samples_count - validation_samples_count\n",
    "\n",
    "train_inputs = shuffled_inputs[:train_samples_count]\n",
    "train_targets = shuffled_targets[:train_samples_count]\n",
    "\n",
    "validation_inputs = shuffled_inputs[train_samples_count:train_samples_count+validation_samples_count]\n",
    "validation_targets = shuffled_targets[train_samples_count:train_samples_count+validation_samples_count]\n",
    "\n",
    "test_inputs = shuffled_inputs[train_samples_count+validation_samples_count:]\n",
    "test_targets = shuffled_targets[train_samples_count+validation_samples_count:]\n",
    "\n",
    "print(np.sum(train_targets), train_samples_count, np.sum(train_targets) / train_samples_count)\n",
    "print(np.sum(validation_targets), validation_samples_count, np.sum(validation_targets) / validation_samples_count)\n",
    "print(np.sum(test_targets), test_samples_count, np.sum(test_targets) / test_samples_count)"
   ]
  },
  {
   "cell_type": "markdown",
   "metadata": {},
   "source": [
    "# Save preprocessed data as npz tensor friendly format for neural network "
   ]
  },
  {
   "cell_type": "code",
   "execution_count": 59,
   "metadata": {},
   "outputs": [],
   "source": [
    "np.savez('Telecom_churn_data_train', inputs=train_inputs, targets=train_targets)\n",
    "np.savez('Telecom_churn_data_validation', inputs=validation_inputs, targets=validation_targets)\n",
    "np.savez('Telecom_churn_data_test', inputs=test_inputs, targets=test_targets)"
   ]
  },
  {
   "cell_type": "code",
   "execution_count": 60,
   "metadata": {},
   "outputs": [
    {
     "data": {
      "text/plain": [
       "(20902, 65)"
      ]
     },
     "execution_count": 60,
     "metadata": {},
     "output_type": "execute_result"
    }
   ],
   "source": [
    "train_inputs.shape"
   ]
  }
 ],
 "metadata": {
  "kernelspec": {
   "display_name": "Python 3",
   "language": "python",
   "name": "python3"
  },
  "language_info": {
   "codemirror_mode": {
    "name": "ipython",
    "version": 3
   },
   "file_extension": ".py",
   "mimetype": "text/x-python",
   "name": "python",
   "nbconvert_exporter": "python",
   "pygments_lexer": "ipython3",
   "version": "3.7.4"
  }
 },
 "nbformat": 4,
 "nbformat_minor": 2
}
